{
 "cells": [
  {
   "cell_type": "code",
   "execution_count": 1,
   "metadata": {},
   "outputs": [],
   "source": [
    "import sqlite3\n",
    "import pandas as pd"
   ]
  },
  {
   "cell_type": "markdown",
   "metadata": {},
   "source": [
    "### Patent classification"
   ]
  },
  {
   "cell_type": "code",
   "execution_count": 2,
   "metadata": {},
   "outputs": [],
   "source": [
    "conn = sqlite3.connect(\"/Volumes/jaekeun/uspto_2008_to_2018/done.db\")\n",
    "c = conn.cursor()\n",
    "\n",
    "donn = sqlite3.connect(\"/Volumes/jaekeun/uspto_2008_to_2018/notdone.db\")\n",
    "d = donn.cursor()"
   ]
  },
  {
   "cell_type": "code",
   "execution_count": 3,
   "metadata": {},
   "outputs": [],
   "source": [
    "with open(\"id.csv\",\"r\") as f:\n",
    "    lines = f.readlines()\n",
    "    bulkstring = \"\".join(lines)\n",
    "    p_id_d = bulkstring.split(\",\")\n",
    "    \n",
    "with open(\"id_not.csv\",\"r\") as g:\n",
    "    lines = g.readlines()\n",
    "    bulkstring = \"\".join(lines)\n",
    "    p_id_n = bulkstring.split(\",\")"
   ]
  },
  {
   "cell_type": "markdown",
   "metadata": {},
   "source": [
    "### Retrieving patent_id from corp uuid"
   ]
  },
  {
   "cell_type": "markdown",
   "metadata": {},
   "source": [
    "#### retrieving data wanted"
   ]
  },
  {
   "cell_type": "code",
   "execution_count": 4,
   "metadata": {
    "scrolled": true
   },
   "outputs": [
    {
     "name": "stdout",
     "output_type": "stream",
     "text": [
      "[('7637008', 'Intel Corporation', '2ae9191b-d755-11e8-86b9-1831bf2dfe44', '7637008', 'A', 'H', 'R', '3', '10', 'F', 'I', 'B', 'H', '2009-12-29', '2006-01-01', 0), ('7637751', 'Intel Corporation', '481ae347-d755-11e8-86b9-1831bf2dfe44', '7637751', 'A', 'H', 'R', '12', '00', 'F', 'I', 'B', 'H', '2009-12-29', '2006-01-01', 0), ('7638169', 'Intel Corporation', '5d0558f9-d755-11e8-86b9-1831bf2dfe44', '7638169', 'A', 'C', 'C', '16', '00', 'F', 'I', 'B', 'H', '2009-12-29', '2006-01-01', 0), ('7638264', 'International Business Machines Corporation', '6078a80e-d755-11e8-86b9-1831bf2dfe44', '7638264', 'A', 'G', 'F', '7', '004', 'F', 'I', 'B', 'H', '2009-12-29', '2006-01-01', 0), ('7638264', 'International Business Machines Corporation', '6078a80f-d755-11e8-86b9-1831bf2dfe44', '7638264', 'A', 'G', 'F', '7', '30', 'L', 'I', 'B', 'H', '2009-12-29', '2006-01-01', 1), ('7638266', 'International Business Machines Corporation', '60eb8efa-d755-11e8-86b9-1831bf2dfe44', '7638266', 'A', 'G', 'F', '1', '00', 'F', 'I', 'B', 'H', '2009-12-29', '2006-01-01', 0), ('7638339', 'Intel Corporation', '6769a66f-d755-11e8-86b9-1831bf2dfe44', '7638339', 'A', 'G', 'N', '33', '48', 'F', 'I', 'B', 'H', '2009-12-29', '2006-01-01', 0), ('7638381', 'International Business Machines Corporation', '69581154-d755-11e8-86b9-1831bf2dfe44', '7638381', 'A', 'H', 'L', '21', '336', 'F', 'I', 'B', 'H', '2009-12-29', '2006-01-01', 0), ('7638381', 'International Business Machines Corporation', '69581155-d755-11e8-86b9-1831bf2dfe44', '7638381', 'A', 'H', 'L', '21', '8234', 'L', 'I', 'B', 'H', '2009-12-29', '2006-01-01', 1), ('7638381', 'International Business Machines Corporation', '69581156-d755-11e8-86b9-1831bf2dfe44', '7638381', 'A', 'H', 'L', '21', '00', 'L', 'I', 'B', 'H', '2009-12-29', '2006-01-01', 2), ('7638381', 'International Business Machines Corporation', '69581157-d755-11e8-86b9-1831bf2dfe44', '7638381', 'A', 'H', 'L', '21', '84', 'L', 'I', 'B', 'H', '2009-12-29', '2006-01-01', 3), ('7638381', 'International Business Machines Corporation', '69581158-d755-11e8-86b9-1831bf2dfe44', '7638381', 'A', 'H', 'L', '21', '3205', 'L', 'I', 'B', 'H', '2009-12-29', '2006-01-01', 4), ('7638383', 'Intel Corporation', '6958120f-d755-11e8-86b9-1831bf2dfe44', '7638383', 'A', 'H', 'L', '21', '336', 'F', 'I', 'B', 'H', '2009-12-29', '2006-01-01', 0), ('7638383', 'Intel Corporation', '69581210-d755-11e8-86b9-1831bf2dfe44', '7638383', 'A', 'H', 'L', '21', '8234', 'L', 'I', 'B', 'H', '2009-12-29', '2006-01-01', 1), ('7638397', 'Intel Corporation', '69ba5e37-d755-11e8-86b9-1831bf2dfe44', '7638397', 'A', 'H', 'L', '21', '336', 'F', 'I', 'B', 'H', '2009-12-29', '2006-01-01', 0), ('7638406', 'International Business Machines Corporation', '6a20da31-d755-11e8-86b9-1831bf2dfe44', '7638406', 'A', 'H', 'L', '21', '20', 'F', 'I', 'B', 'H', '2009-12-29', '2006-01-01', 0), ('7638419', 'Intel Corporation', '6a8375dc-d755-11e8-86b9-1831bf2dfe44', '7638419', 'A', 'H', 'L', '21', '44', 'F', 'I', 'B', 'H', '2009-12-29', '2006-01-01', 0), ('7638419', 'Intel Corporation', '6a8375dd-d755-11e8-86b9-1831bf2dfe44', '7638419', 'A', 'H', 'K', '3', '00', 'L', 'I', 'B', 'H', '2009-12-29', '2006-01-01', 1), ('7638419', 'Intel Corporation', '6a8375de-d755-11e8-86b9-1831bf2dfe44', '7638419', 'A', 'H', 'L', '23', '48', 'L', 'I', 'B', 'H', '2009-12-29', '2006-01-01', 2), ('7638419', 'Intel Corporation', '6a8375df-d755-11e8-86b9-1831bf2dfe44', '7638419', 'A', 'H', 'K', '1', '11', 'L', 'I', 'B', 'H', '2009-12-29', '2006-01-01', 3), ('7638419', 'Intel Corporation', '6a8375e0-d755-11e8-86b9-1831bf2dfe44', '7638419', 'A', 'H', 'K', '7', '10', 'L', 'I', 'B', 'H', '2009-12-29', '2006-01-01', 4), ('7638717', 'Apple Inc.', '7e05fc4d-d755-11e8-86b9-1831bf2dfe44', '7638717', 'A', 'H', 'K', '9', '00', 'F', 'I', 'B', 'H', '2009-12-29', '2006-01-01', 0), ('7638867', 'Intel Corporation', '851b843b-d755-11e8-86b9-1831bf2dfe44', '7638867', 'A', 'H', 'L', '23', '00', 'F', 'I', 'B', 'H', '2009-12-29', '2006-01-01', 0), ('7638867', 'Intel Corporation', '851b843c-d755-11e8-86b9-1831bf2dfe44', '7638867', 'A', 'H', 'L', '23', '48', 'L', 'I', 'B', 'H', '2009-12-29', '2006-01-01', 1), ('7638867', 'Intel Corporation', '851b843d-d755-11e8-86b9-1831bf2dfe44', '7638867', 'A', 'H', 'L', '23', '52', 'L', 'I', 'B', 'H', '2009-12-29', '2006-01-01', 2), ('7638867', 'Intel Corporation', '851b843e-d755-11e8-86b9-1831bf2dfe44', '7638867', 'A', 'H', 'L', '29', '40', 'L', 'I', 'B', 'H', '2009-12-29', '2006-01-01', 3), ('7638874', 'Intel Corporation', '857a6e85-d755-11e8-86b9-1831bf2dfe44', '7638874', 'A', 'H', 'L', '23', '34', 'F', 'I', 'B', 'H', '2009-12-29', '2006-01-01', 0), ('7638877', 'Intel Corporation', '857a6f51-d755-11e8-86b9-1831bf2dfe44', '7638877', 'A', 'H', 'L', '23', '48', 'F', 'I', 'B', 'H', '2009-12-29', '2006-01-01', 0), ('7638882', 'Intel Corporation', '857a710c-d755-11e8-86b9-1831bf2dfe44', '7638882', 'A', 'H', 'L', '23', '48', 'F', 'I', 'B', 'H', '2009-12-29', '2006-01-01', 0), ('7638882', 'Intel Corporation', '857a710d-d755-11e8-86b9-1831bf2dfe44', '7638882', 'A', 'H', 'L', '23', '52', 'L', 'I', 'B', 'H', '2009-12-29', '2006-01-01', 1), ('7638882', 'Intel Corporation', '85dbb3e2-d755-11e8-86b9-1831bf2dfe44', '7638882', 'A', 'H', 'L', '29', '40', 'L', 'I', 'B', 'H', '2009-12-29', '2006-01-01', 2), ('7638884', 'Intel Corporation', '85dbb46c-d755-11e8-86b9-1831bf2dfe44', '7638884', 'A', 'H', 'L', '29', '40', 'F', 'I', 'B', 'H', '2009-12-29', '2006-01-01', 0), ('7638884', 'Intel Corporation', '85dbb46d-d755-11e8-86b9-1831bf2dfe44', '7638884', 'A', 'H', 'L', '21', '301', 'L', 'I', 'B', 'H', '2009-12-29', '2006-01-01', 1), ('7638928', 'Intel Corporation', '873fefef-d755-11e8-86b9-1831bf2dfe44', '7638928', 'A', 'H', 'L', '41', '08', 'F', 'I', 'B', 'H', '2009-12-29', '2006-01-01', 0), ('7639030', 'Intel Corporation', '8b09e977-d755-11e8-86b9-1831bf2dfe44', '7639030', 'A', 'G', 'R', '31', '02', 'F', 'I', 'B', 'H', '2009-12-29', '2006-01-01', 0), ('7639032', 'International Business Machines Corporation', '8b09e9e3-d755-11e8-86b9-1831bf2dfe44', '7639032', 'A', 'G', 'R', '31', '02', 'F', 'I', 'B', 'H', '2009-12-29', '2006-01-01', 0), ('7639032', 'International Business Machines Corporation', '8b09e9e4-d755-11e8-86b9-1831bf2dfe44', '7639032', 'A', 'H', 'L', '23', '58', 'L', 'I', 'B', 'H', '2009-12-29', '2006-01-01', 1), ('7639032', 'International Business Machines Corporation', '8b09e9e5-d755-11e8-86b9-1831bf2dfe44', '7639032', 'A', 'G', 'N', '25', '20', 'L', 'I', 'B', 'H', '2009-12-29', '2006-01-01', 2), ('7639046', 'International Business Machines Corporation', '8bc55ff2-d755-11e8-86b9-1831bf2dfe44', '7639046', 'A', 'H', 'K', '19', '00', 'F', 'I', 'B', 'H', '2009-12-29', '2006-01-01', 0), ('7639046', 'International Business Machines Corporation', '8bc55ff3-d755-11e8-86b9-1831bf2dfe44', '7639046', 'A', 'H', 'K', '17', '16', 'L', 'I', 'B', 'H', '2009-12-29', '2006-01-01', 1), ('7639046', 'International Business Machines Corporation', '8bc55ff4-d755-11e8-86b9-1831bf2dfe44', '7639046', 'A', 'H', 'K', '19', '003', 'L', 'I', 'B', 'H', '2009-12-29', '2006-01-01', 2), ('7639046', 'International Business Machines Corporation', '8bc55ff5-d755-11e8-86b9-1831bf2dfe44', '7639046', 'A', 'G', 'F', '1', '00', 'L', 'I', 'B', 'H', '2009-12-29', '2006-01-01', 3), ('7639046', 'International Business Machines Corporation', '8bc55ff6-d755-11e8-86b9-1831bf2dfe44', '7639046', 'A', 'G', 'F', '1', '10', 'L', 'I', 'B', 'H', '2009-12-29', '2006-01-01', 4), ('7639046', 'International Business Machines Corporation', '8bc55ff7-d755-11e8-86b9-1831bf2dfe44', '7639046', 'A', 'G', 'F', '3', '02', 'L', 'I', 'B', 'H', '2009-12-29', '2006-01-01', 5), ('7639140', 'Oracle International Corporation', '908df9a5-d755-11e8-86b9-1831bf2dfe44', '7639140', 'A', 'G', 'B', '13', '14', 'F', 'I', 'B', 'H', '2009-12-29', '2006-01-01', 0), ('7639143', 'Intel Corporation', '908dfbc0-d755-11e8-86b9-1831bf2dfe44', '7639143', 'A', 'G', 'B', '13', '14', 'F', 'I', 'B', 'H', '2009-12-29', '2006-01-01', 0), ('7639187', 'Apple Inc.', '9243e566-d755-11e8-86b9-1831bf2dfe44', '7639187', 'A', 'H', 'Q', '1', '24', 'F', 'I', 'B', 'H', '2009-12-29', '2006-01-01', 0), ('7639235', 'Microsoft Corporation', '93bf9d82-d755-11e8-86b9-1831bf2dfe44', '7639235', 'A', 'G', 'G', '5', '08', 'F', 'I', 'B', 'H', '2009-12-29', '2006-01-01', 0), ('7639249', 'Microsoft Corporation', '945dc3bd-d755-11e8-86b9-1831bf2dfe44', '7639249', 'A', 'G', 'T', '15', '00', 'F', 'I', 'B', 'H', '2009-12-29', '2006-01-01', 0), ('7639249', 'Microsoft Corporation', '945dc3be-d755-11e8-86b9-1831bf2dfe44', '7639249', 'A', 'G', 'T', '17', '00', 'L', 'I', 'B', 'H', '2009-12-29', '2006-01-01', 1)]\n"
     ]
    }
   ],
   "source": [
    "query = c.execute(\"\"\"SELECT * FROM (SELECT patent_id, GROUP_CONCAT(organization)\n",
    "                                    FROM rawassignee \n",
    "                                    WHERE patent_id IN {} GROUP BY patent_id) AS sample\n",
    "                   INNER JOIN ipcr\n",
    "                   ON ipcr.patent_id = sample.patent_id\"\"\".format(tuple(p_id_d)))\n",
    "\n",
    "print(c.fetchmany(50))\n",
    "\n",
    "cols = [column[0] for column in query.description]\n",
    "results_d= pd.DataFrame.from_records(data = query.fetchall(), columns = cols)"
   ]
  },
  {
   "cell_type": "code",
   "execution_count": 20,
   "metadata": {},
   "outputs": [
    {
     "name": "stdout",
     "output_type": "stream",
     "text": [
      "[('8357008', 'CISCO Technology, Inc.', 'e9f99844-e0a6-11e8-86b9-1831bf2dfe44', '8357008', 'A', 'H', 'R', '13', '60', 'F', 'I', 'B', 'H', '2013-01-22', '2006-01-01', 0), ('8357317', 'Microsoft Corporation', '024cf982-e0a7-11e8-86b9-1831bf2dfe44', '8357317', 'A', 'B', 'D', '11', '00', 'F', 'I', 'B', 'H', '2013-01-22', '2006-01-01', 0), ('8357317', 'Microsoft Corporation', '024cf983-e0a7-11e8-86b9-1831bf2dfe44', '8357317', 'A', 'G', 'B', '6', '10', 'L', 'I', 'B', 'H', '2013-01-22', '2006-01-01', 1), ('8357546', 'Intel Corporation', '1118640c-e0a7-11e8-86b9-1831bf2dfe44', '8357546', 'A', 'G', 'N', '33', '553', 'F', 'I', 'B', 'H', '2013-01-22', '2006-01-01', 0), ('8357608', 'International Business Machines Corporation', '134c3f32-e0a7-11e8-86b9-1831bf2dfe44', '8357608', 'A', 'H', 'L', '21', '4763', 'F', 'I', 'B', 'H', '2013-01-22', '2006-01-01', 0), ('8357932', 'International Business Machines Corporation', '27bb1ffa-e0a7-11e8-86b9-1831bf2dfe44', '8357932', 'A', 'H', 'L', '23', '544', 'F', 'I', 'B', 'H', '2013-01-22', '2006-01-01', 0), ('8357953', 'International Business Machines Corporation', '287e7742-e0a7-11e8-86b9-1831bf2dfe44', '8357953', 'A', 'H', 'L', '29', '739', 'F', 'I', 'B', 'H', '2013-01-22', '2006-01-01', 0), ('8358011', 'International Business Machines Corporation', '2b002882-e0a7-11e8-86b9-1831bf2dfe44', '8358011', 'A', 'H', 'L', '23', '48', 'F', 'I', 'B', 'H', '2013-01-22', '2006-01-01', 0), ('8358012', 'International Business Machines Corporation', '2b0028aa-e0a7-11e8-86b9-1831bf2dfe44', '8358012', 'A', 'H', 'L', '29', '40', 'F', 'I', 'B', 'H', '2013-01-22', '2006-01-01', 0), ('8358107', 'Intel Corporation', '2eed346d-e0a7-11e8-86b9-1831bf2dfe44', '8358107', 'A', 'H', 'J', '7', '00', 'F', 'I', 'B', 'H', '2013-01-22', '2006-01-01', 0), ('8358107', 'Intel Corporation', '2eed346e-e0a7-11e8-86b9-1831bf2dfe44', '8358107', 'A', 'H', 'J', '7', '16', 'L', 'I', 'B', 'H', '2013-01-22', '2006-01-01', 1), ('8358112', 'Intel Corporation', '2f564fef-e0a7-11e8-86b9-1831bf2dfe44', '8358112', 'A', 'G', 'F', '1', '00', 'F', 'I', 'B', 'H', '2013-01-22', '2006-01-01', 0), ('8358152', 'Apple Inc.', '31bdeab8-e0a7-11e8-86b9-1831bf2dfe44', '8358152', 'A', 'H', 'K', '19', '00', 'F', 'I', 'B', 'H', '2013-01-22', '2006-01-01', 0), ('8358153', 'International Business Machines Corporation', '326a08db-e0a7-11e8-86b9-1831bf2dfe44', '8358153', 'A', 'H', 'K', '19', '20', 'F', 'I', 'B', 'H', '2013-01-22', '2006-01-01', 0), ('8358153', 'International Business Machines Corporation', '326a08dc-e0a7-11e8-86b9-1831bf2dfe44', '8358153', 'A', 'G', 'C', '19', '08', 'L', 'I', 'B', 'H', '2013-01-22', '2006-01-01', 1), ('8358153', 'International Business Machines Corporation', '326a08dd-e0a7-11e8-86b9-1831bf2dfe44', '8358153', 'A', 'G', 'F', '7', '50', 'L', 'I', 'B', 'H', '2013-01-22', '2006-01-01', 2), ('8358155', 'Oracle America, Inc.', '326a0a47-e0a7-11e8-86b9-1831bf2dfe44', '8358155', 'A', 'H', 'K', '19', '20', 'F', 'I', 'B', 'H', '2013-01-22', '2006-01-01', 0), ('8358260', 'Intel Corporation', '387e01e6-e0a7-11e8-86b9-1831bf2dfe44', '8358260', 'A', 'G', 'G', '3', '36', 'F', 'I', 'B', 'H', '2013-01-22', '2006-01-01', 0), ('8358262', 'Intel Corporation', '387e0298-e0a7-11e8-86b9-1831bf2dfe44', '8358262', 'A', 'G', 'G', '3', '36', 'F', 'I', 'B', 'H', '2013-01-22', '2006-01-01', 0), ('8358268', 'Cisco Technology, Inc.', '38cfd97d-e0a7-11e8-86b9-1831bf2dfe44', '8358268', 'A', 'G', 'G', '5', '00', 'F', 'I', 'B', 'H', '2013-01-22', '2006-01-01', 0), ('8358269', 'Intel Corporation', '39183f03-e0a7-11e8-86b9-1831bf2dfe44', '8358269', 'A', 'G', 'F', '3', '033', 'F', 'I', 'B', 'H', '2013-01-22', '2006-01-01', 0), ('8358269', 'Intel Corporation', '39183f04-e0a7-11e8-86b9-1831bf2dfe44', '8358269', 'A', 'G', 'F', '3', '00', 'L', 'I', 'B', 'H', '2013-01-22', '2006-01-01', 1), ('8358269', 'Intel Corporation', '39183f05-e0a7-11e8-86b9-1831bf2dfe44', '8358269', 'A', 'G', 'G', '5', '00', 'L', 'I', 'B', 'H', '2013-01-22', '2006-01-01', 2), ('8358273', 'Apple Inc.', '39184006-e0a7-11e8-86b9-1831bf2dfe44', '8358273', 'A', 'G', 'G', '5', '10', 'F', 'I', 'B', 'H', '2013-01-22', '2006-01-01', 0), ('8358276', 'Apple Inc.', '3950c82e-e0a7-11e8-86b9-1831bf2dfe44', '8358276', 'A', 'G', 'F', '3', '041', 'F', 'I', 'B', 'H', '2013-01-22', '2006-01-01', 0), ('8358277', 'Microsoft Corporation', '3950c8b1-e0a7-11e8-86b9-1831bf2dfe44', '8358277', 'A', 'G', 'F', '3', '041', 'F', 'I', 'B', 'H', '2013-01-22', '2006-01-01', 0), ('8358281', 'Apple Inc.', '39b381f8-e0a7-11e8-86b9-1831bf2dfe44', '8358281', 'A', 'G', 'F', '3', '041', 'F', 'I', 'B', 'H', '2013-01-22', '2006-01-01', 0), ('8358281', 'Apple Inc.', '39b381f9-e0a7-11e8-86b9-1831bf2dfe44', '8358281', 'A', 'G', 'F', '3', '01', 'L', 'I', 'B', 'H', '2013-01-22', '2006-01-01', 1), ('8358298', 'Cisco Technology, Inc.', '3a86e905-e0a7-11e8-86b9-1831bf2dfe44', '8358298', 'A', 'G', 'G', '5', '10', 'F', 'I', 'B', 'H', '2013-01-22', '2006-01-01', 0), ('8358302', 'International Business Machines Corporation', '3a86eac1-e0a7-11e8-86b9-1831bf2dfe44', '8358302', 'A', 'G', 'T', '15', '00', 'F', 'I', 'B', 'H', '2013-01-22', '2011-01-01', 0), ('8358308', 'Microsoft Corporation', '3ae778ef-e0a7-11e8-86b9-1831bf2dfe44', '8358308', 'A', 'G', 'T', '11', '20', 'F', 'I', 'B', 'H', '2013-01-22', '2006-01-01', 0), ('8358314', 'Apple Inc.', '3b414a2b-e0a7-11e8-86b9-1831bf2dfe44', '8358314', 'A', 'G', 'G', '5', '36', 'F', 'I', 'B', 'H', '2013-01-22', '2006-01-01', 0), ('8358319', 'Apple Inc.', '3bb4b4a9-e0a7-11e8-86b9-1831bf2dfe44', '8358319', 'A', 'G', 'G', '5', '00', 'F', 'I', 'B', 'H', '2013-01-22', '2006-01-01', 0), ('8358321', 'Google Inc.', '3c4b8786-e0a7-11e8-86b9-1831bf2dfe44', '8358321', 'A', 'G', 'G', '5', '00', 'F', 'I', 'B', 'H', '2013-01-22', '2006-01-01', 0), ('8358328', 'Cisco Technology, Inc.', '3c4b89d7-e0a7-11e8-86b9-1831bf2dfe44', '8358328', 'A', 'H', 'N', '7', '15', 'F', 'I', 'B', 'H', '2013-01-22', '2006-01-01', 0), ('8358351', 'Apple Inc.', '3d2b6ab7-e0a7-11e8-86b9-1831bf2dfe44', '8358351', 'A', 'H', 'N', '5', '228', 'F', 'I', 'B', 'H', '2013-01-22', '2006-01-01', 0), ('8358351', 'Apple Inc.', '3d2b6ab8-e0a7-11e8-86b9-1831bf2dfe44', '8358351', 'A', 'H', 'N', '5', '202', 'L', 'N', 'B', 'H', '2013-01-22', '2006-01-01', 1), ('8358359', 'Microsoft Corporation', '3dd71daf-e0a7-11e8-86b9-1831bf2dfe44', '8358359', 'A', 'H', 'N', '5', '217', 'F', 'I', 'B', 'H', '2013-01-22', '2011-01-01', 0), ('8358359', 'Microsoft Corporation', '3dd71db0-e0a7-11e8-86b9-1831bf2dfe44', '8358359', 'A', 'H', 'N', '11', '00', 'L', 'I', 'B', 'H', '2013-01-22', '2006-01-01', 1), ('8358359', 'Microsoft Corporation', '3dd71db1-e0a7-11e8-86b9-1831bf2dfe44', '8358359', 'A', 'H', 'N', '7', '00', 'L', 'I', 'B', 'H', '2013-01-22', '2006-01-01', 2), ('8358359', 'Microsoft Corporation', '3dd71db2-e0a7-11e8-86b9-1831bf2dfe44', '8358359', 'A', 'G', 'K', '9', '40', 'L', 'I', 'B', 'H', '2013-01-22', '2006-01-01', 3), ('8358380', 'Cisco Technology, Inc.', '3ebfed8d-e0a7-11e8-86b9-1831bf2dfe44', '8358380', 'A', 'H', 'N', '5', '00', 'F', 'I', 'B', 'H', '2013-01-22', '2011-01-01', 0), ('8358380', 'Cisco Technology, Inc.', '3ebfed8e-e0a7-11e8-86b9-1831bf2dfe44', '8358380', 'A', 'H', 'N', '7', '12', 'L', 'I', 'B', 'H', '2013-01-22', '2006-01-01', 1), ('8358380', 'Cisco Technology, Inc.', '3ebfed8f-e0a7-11e8-86b9-1831bf2dfe44', '8358380', 'A', 'H', 'N', '11', '02', 'L', 'I', 'B', 'H', '2013-01-22', '2006-01-01', 2), ('8358380', 'Cisco Technology, Inc.', '3ebfed90-e0a7-11e8-86b9-1831bf2dfe44', '8358380', 'A', 'H', 'N', '11', '04', 'L', 'I', 'B', 'H', '2013-01-22', '2006-01-01', 3), ('8358486', 'International Business Machines Corporation', '4397e8aa-e0a7-11e8-86b9-1831bf2dfe44', '8358486', 'A', 'G', 'B', '5', '115', 'F', 'I', 'B', 'H', '2013-01-22', '2006-01-01', 0), ('8358486', 'International Business Machines Corporation', '4397e8ab-e0a7-11e8-86b9-1831bf2dfe44', '8358486', 'A', 'G', 'B', '5', '29', 'L', 'I', 'B', 'H', '2013-01-22', '2006-01-01', 1), ('8358503', 'International Business Machines Corporation', '4456bb91-e0a7-11e8-86b9-1831bf2dfe44', '8358503', 'A', 'H', 'K', '7', '20', 'F', 'I', 'B', 'H', '2013-01-22', '2006-01-01', 0), ('8358509', 'International Business Machines Corporation', '44b038d0-e0a7-11e8-86b9-1831bf2dfe44', '8358509', 'A', 'H', 'K', '3', '00', 'F', 'I', 'B', 'H', '2013-01-22', '2006-01-01', 0), ('8358511', 'International Business Machines Corporation', '44b0395f-e0a7-11e8-86b9-1831bf2dfe44', '8358511', 'A', 'H', 'R', '12', '16', 'F', 'I', 'B', 'H', '2013-01-22', '2006-01-01', 0)]\n"
     ]
    }
   ],
   "source": [
    "query = d.execute(\"\"\"SELECT * FROM (SELECT patent_id, GROUP_CONCAT(organization)\n",
    "                                    FROM rawassignee \n",
    "                                    WHERE patent_id IN {} GROUP BY patent_id) AS sample\n",
    "                   INNER JOIN ipcr\n",
    "                   ON ipcr.patent_id = sample.patent_id\"\"\".format(tuple(p_id_n)))\n",
    "\n",
    "print(d.fetchmany(50))\n",
    "\n",
    "cols = [column[0] for column in query.description]\n",
    "results_n= pd.DataFrame.from_records(data = query.fetchall(), columns = cols)"
   ]
  },
  {
   "cell_type": "code",
   "execution_count": 11,
   "metadata": {},
   "outputs": [],
   "source": [
    "results_d.columns = ['patent_id', 'organization', 'uuid', 'patent_id2',\n",
    "       'classification_level', 'section', 'subclass', 'main_group', 'subgroup',\n",
    "       'symbol_position', 'classification_value', 'classification_status',\n",
    "       'classification_data_source', 'action_date', 'ipc_version_indicator',\n",
    "       'sequence']\n",
    "\n",
    "results_d = results_d.drop(columns=[\"patent_id2\"])"
   ]
  },
  {
   "cell_type": "code",
   "execution_count": 21,
   "metadata": {},
   "outputs": [],
   "source": [
    "results_d.to_csv(\"done_patent_ipc.tsv\", sep=\"\\t\")"
   ]
  },
  {
   "cell_type": "code",
   "execution_count": 23,
   "metadata": {},
   "outputs": [],
   "source": [
    "results_n.columns = ['patent_id', 'organization', 'uuid', 'patent_id2',\n",
    "       'classification_level', 'section', 'subclass', 'main_group', 'subgroup',\n",
    "       'symbol_position', 'classification_value', 'classification_status',\n",
    "       'classification_data_source', 'action_date', 'ipc_version_indicator',\n",
    "       'sequence']\n",
    "\n",
    "results_n = results_n.drop(columns=[\"patent_id2\"])"
   ]
  },
  {
   "cell_type": "code",
   "execution_count": 24,
   "metadata": {},
   "outputs": [],
   "source": [
    "results_n.to_csv(\"notdone_patent_ipc.tsv\", sep=\"\\t\")"
   ]
  },
  {
   "cell_type": "code",
   "execution_count": 25,
   "metadata": {},
   "outputs": [],
   "source": [
    "dataframes = [results_d, results_n]\n",
    "results = pd.concat(dataframes, ignore_index=True)"
   ]
  },
  {
   "cell_type": "code",
   "execution_count": 29,
   "metadata": {},
   "outputs": [
    {
     "data": {
      "text/html": [
       "<div>\n",
       "<style scoped>\n",
       "    .dataframe tbody tr th:only-of-type {\n",
       "        vertical-align: middle;\n",
       "    }\n",
       "\n",
       "    .dataframe tbody tr th {\n",
       "        vertical-align: top;\n",
       "    }\n",
       "\n",
       "    .dataframe thead th {\n",
       "        text-align: right;\n",
       "    }\n",
       "</style>\n",
       "<table border=\"1\" class=\"dataframe\">\n",
       "  <thead>\n",
       "    <tr style=\"text-align: right;\">\n",
       "      <th></th>\n",
       "      <th>patent_id</th>\n",
       "      <th>organization</th>\n",
       "      <th>uuid</th>\n",
       "      <th>classification_level</th>\n",
       "      <th>section</th>\n",
       "      <th>subclass</th>\n",
       "      <th>main_group</th>\n",
       "      <th>subgroup</th>\n",
       "      <th>symbol_position</th>\n",
       "      <th>classification_value</th>\n",
       "      <th>classification_status</th>\n",
       "      <th>classification_data_source</th>\n",
       "      <th>action_date</th>\n",
       "      <th>ipc_version_indicator</th>\n",
       "      <th>sequence</th>\n",
       "    </tr>\n",
       "  </thead>\n",
       "  <tbody>\n",
       "    <tr>\n",
       "      <th>0</th>\n",
       "      <td>7639249</td>\n",
       "      <td>Microsoft Corporation</td>\n",
       "      <td>945dc3bf-d755-11e8-86b9-1831bf2dfe44</td>\n",
       "      <td>A</td>\n",
       "      <td>G</td>\n",
       "      <td>T</td>\n",
       "      <td>15</td>\n",
       "      <td>30</td>\n",
       "      <td>L</td>\n",
       "      <td>I</td>\n",
       "      <td>B</td>\n",
       "      <td>H</td>\n",
       "      <td>2009-12-29</td>\n",
       "      <td>2006-01-01</td>\n",
       "      <td>2</td>\n",
       "    </tr>\n",
       "    <tr>\n",
       "      <th>1</th>\n",
       "      <td>7639249</td>\n",
       "      <td>Microsoft Corporation</td>\n",
       "      <td>945dc3c0-d755-11e8-86b9-1831bf2dfe44</td>\n",
       "      <td>A</td>\n",
       "      <td>G</td>\n",
       "      <td>T</td>\n",
       "      <td>17</td>\n",
       "      <td>20</td>\n",
       "      <td>L</td>\n",
       "      <td>I</td>\n",
       "      <td>B</td>\n",
       "      <td>H</td>\n",
       "      <td>2009-12-29</td>\n",
       "      <td>2006-01-01</td>\n",
       "      <td>3</td>\n",
       "    </tr>\n",
       "    <tr>\n",
       "      <th>2</th>\n",
       "      <td>7639249</td>\n",
       "      <td>Microsoft Corporation</td>\n",
       "      <td>945dc3c1-d755-11e8-86b9-1831bf2dfe44</td>\n",
       "      <td>A</td>\n",
       "      <td>G</td>\n",
       "      <td>T</td>\n",
       "      <td>11</td>\n",
       "      <td>00</td>\n",
       "      <td>L</td>\n",
       "      <td>I</td>\n",
       "      <td>B</td>\n",
       "      <td>H</td>\n",
       "      <td>2009-12-29</td>\n",
       "      <td>2006-01-01</td>\n",
       "      <td>4</td>\n",
       "    </tr>\n",
       "    <tr>\n",
       "      <th>3</th>\n",
       "      <td>7639249</td>\n",
       "      <td>Microsoft Corporation</td>\n",
       "      <td>945dc3c2-d755-11e8-86b9-1831bf2dfe44</td>\n",
       "      <td>A</td>\n",
       "      <td>G</td>\n",
       "      <td>G</td>\n",
       "      <td>5</td>\n",
       "      <td>00</td>\n",
       "      <td>L</td>\n",
       "      <td>I</td>\n",
       "      <td>B</td>\n",
       "      <td>H</td>\n",
       "      <td>2009-12-29</td>\n",
       "      <td>2006-01-01</td>\n",
       "      <td>5</td>\n",
       "    </tr>\n",
       "    <tr>\n",
       "      <th>4</th>\n",
       "      <td>7639250</td>\n",
       "      <td>Microsoft Corporation</td>\n",
       "      <td>945dc468-d755-11e8-86b9-1831bf2dfe44</td>\n",
       "      <td>A</td>\n",
       "      <td>G</td>\n",
       "      <td>T</td>\n",
       "      <td>15</td>\n",
       "      <td>00</td>\n",
       "      <td>F</td>\n",
       "      <td>I</td>\n",
       "      <td>B</td>\n",
       "      <td>H</td>\n",
       "      <td>2009-12-29</td>\n",
       "      <td>2006-01-01</td>\n",
       "      <td>0</td>\n",
       "    </tr>\n",
       "  </tbody>\n",
       "</table>\n",
       "</div>"
      ],
      "text/plain": [
       "  patent_id           organization                                  uuid  \\\n",
       "0   7639249  Microsoft Corporation  945dc3bf-d755-11e8-86b9-1831bf2dfe44   \n",
       "1   7639249  Microsoft Corporation  945dc3c0-d755-11e8-86b9-1831bf2dfe44   \n",
       "2   7639249  Microsoft Corporation  945dc3c1-d755-11e8-86b9-1831bf2dfe44   \n",
       "3   7639249  Microsoft Corporation  945dc3c2-d755-11e8-86b9-1831bf2dfe44   \n",
       "4   7639250  Microsoft Corporation  945dc468-d755-11e8-86b9-1831bf2dfe44   \n",
       "\n",
       "  classification_level section subclass main_group subgroup symbol_position  \\\n",
       "0                    A       G        T         15       30               L   \n",
       "1                    A       G        T         17       20               L   \n",
       "2                    A       G        T         11       00               L   \n",
       "3                    A       G        G          5       00               L   \n",
       "4                    A       G        T         15       00               F   \n",
       "\n",
       "  classification_value classification_status classification_data_source  \\\n",
       "0                    I                     B                          H   \n",
       "1                    I                     B                          H   \n",
       "2                    I                     B                          H   \n",
       "3                    I                     B                          H   \n",
       "4                    I                     B                          H   \n",
       "\n",
       "  action_date ipc_version_indicator  sequence  \n",
       "0  2009-12-29            2006-01-01         2  \n",
       "1  2009-12-29            2006-01-01         3  \n",
       "2  2009-12-29            2006-01-01         4  \n",
       "3  2009-12-29            2006-01-01         5  \n",
       "4  2009-12-29            2006-01-01         0  "
      ]
     },
     "execution_count": 29,
     "metadata": {},
     "output_type": "execute_result"
    }
   ],
   "source": [
    "results.head()"
   ]
  },
  {
   "cell_type": "code",
   "execution_count": null,
   "metadata": {},
   "outputs": [],
   "source": []
  }
 ],
 "metadata": {
  "kernelspec": {
   "display_name": "Python 3",
   "language": "python",
   "name": "python3"
  },
  "language_info": {
   "codemirror_mode": {
    "name": "ipython",
    "version": 3
   },
   "file_extension": ".py",
   "mimetype": "text/x-python",
   "name": "python",
   "nbconvert_exporter": "python",
   "pygments_lexer": "ipython3",
   "version": "3.7.0"
  }
 },
 "nbformat": 4,
 "nbformat_minor": 2
}
