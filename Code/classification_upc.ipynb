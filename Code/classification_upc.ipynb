{
 "cells": [
  {
   "cell_type": "code",
   "execution_count": 1,
   "metadata": {},
   "outputs": [],
   "source": [
    "import sqlite3\n",
    "import pandas as pd"
   ]
  },
  {
   "cell_type": "markdown",
   "metadata": {},
   "source": [
    "### Patent classification"
   ]
  },
  {
   "cell_type": "code",
   "execution_count": 2,
   "metadata": {},
   "outputs": [],
   "source": [
    "conn = sqlite3.connect(\"/Volumes/jaekeun/uspto_2008_to_2018/done.db\")\n",
    "c = conn.cursor()\n",
    "\n",
    "donn = sqlite3.connect(\"/Volumes/jaekeun/uspto_2008_to_2018/notdone.db\")\n",
    "d = donn.cursor()"
   ]
  },
  {
   "cell_type": "code",
   "execution_count": 3,
   "metadata": {},
   "outputs": [],
   "source": [
    "with open(\"id.csv\",\"r\") as f:\n",
    "    lines = f.readlines()\n",
    "    bulkstring = \"\".join(lines)\n",
    "    p_id_d = bulkstring.split(\",\")\n",
    "    \n",
    "with open(\"id_not.csv\",\"r\") as g:\n",
    "    lines = g.readlines()\n",
    "    bulkstring = \"\".join(lines)\n",
    "    p_id_n = bulkstring.split(\",\")"
   ]
  },
  {
   "cell_type": "markdown",
   "metadata": {},
   "source": [
    "### Retrieving patent_id from corp uuid"
   ]
  },
  {
   "cell_type": "markdown",
   "metadata": {},
   "source": [
    "#### retrieving data wanted"
   ]
  },
  {
   "cell_type": "code",
   "execution_count": 4,
   "metadata": {
    "scrolled": true
   },
   "outputs": [
    {
     "name": "stdout",
     "output_type": "stream",
     "text": [
      "[('D606751', 'Apple Inc.', '1f1f4a4e-d755-11e8-86b9-1831bf2dfe44', 'D606751', 'D3', 'D3/269', 0), ('D606964', 'Apple Inc.', '23750828-d755-11e8-86b9-1831bf2dfe44', 'D606964', 'D14', 'D14/2037', 0), ('D606964', 'Apple Inc.', '23750829-d755-11e8-86b9-1831bf2dfe44', 'D606964', 'D14', 'D14/496', 1), ('D606964', 'Apple Inc.', '2375082a-d755-11e8-86b9-1831bf2dfe44', 'D606964', 'D14', 'D14/2033', 2), ('D606965', 'Apple Inc.', '23750929-d755-11e8-86b9-1831bf2dfe44', 'D606965', 'D14', 'D14/2037', 0), ('D606965', 'Apple Inc.', '2375092a-d755-11e8-86b9-1831bf2dfe44', 'D606965', 'D14', 'D14/496', 1), ('D606965', 'Apple Inc.', '2375092b-d755-11e8-86b9-1831bf2dfe44', 'D606965', 'D14', 'D14/2033', 2), ('D606966', 'Apple Inc.', '23bcda78-d755-11e8-86b9-1831bf2dfe44', 'D606966', 'D14', 'D14/2037', 0), ('D606966', 'Apple Inc.', '23bcda79-d755-11e8-86b9-1831bf2dfe44', 'D606966', 'D14', 'D14/496', 1), ('D606966', 'Apple Inc.', '23bcda7a-d755-11e8-86b9-1831bf2dfe44', 'D606966', 'D14', 'D14/2033', 2), ('D606967', 'Apple Inc.', '23bcdb7b-d755-11e8-86b9-1831bf2dfe44', 'D606967', 'D14', 'D14/2037', 0), ('D606967', 'Apple Inc.', '23bcdb7c-d755-11e8-86b9-1831bf2dfe44', 'D606967', 'D14', 'D14/2033', 1), ('D606967', 'Apple Inc.', '23bcdb7d-d755-11e8-86b9-1831bf2dfe44', 'D606967', 'D14', 'D14/496', 2), ('D606968', 'Apple Inc.', '23bcdc8a-d755-11e8-86b9-1831bf2dfe44', 'D606968', 'D14', 'D14/2037', 0), ('D606968', 'Apple Inc.', '23bcdc8b-d755-11e8-86b9-1831bf2dfe44', 'D606968', 'D14', 'D14/2033', 1), ('D606968', 'Apple Inc.', '23bcdc8c-d755-11e8-86b9-1831bf2dfe44', 'D606968', 'D14', 'D14/496', 2), ('D606988', 'Apple Inc.', '241044d3-d755-11e8-86b9-1831bf2dfe44', 'D606988', 'D14', 'D14/315', 0), ('D606989', 'Apple Inc.', '24104557-d755-11e8-86b9-1831bf2dfe44', 'D606989', 'D14', 'D14/315', 0), ('D607001', 'Apple Inc.', '246bb875-d755-11e8-86b9-1831bf2dfe44', 'D607001', 'D14', 'D14/486', 0), ('D607003', 'Apple Inc.', '246bb92a-d755-11e8-86b9-1831bf2dfe44', 'D607003', 'D14', 'D14/486', 0), ('D607005', 'Apple Inc.', '246bb9f8-d755-11e8-86b9-1831bf2dfe44', 'D607005', 'D14', 'D14/488', 0), ('D607005', 'Apple Inc.', '246bb9f9-d755-11e8-86b9-1831bf2dfe44', 'D607005', 'D14', 'D14/489', 1), ('D607007', 'Microsoft Corporation', '24bbd22c-d755-11e8-86b9-1831bf2dfe44', 'D607007', 'D14', 'D14/489', 0), ('D607008', 'Microsoft Corporation', '24bbd25c-d755-11e8-86b9-1831bf2dfe44', 'D607008', 'D14', 'D14/489', 0), ('D607010', 'Microsoft Corporation', '24bbd2c6-d755-11e8-86b9-1831bf2dfe44', 'D607010', 'D14', 'D14/491', 0), ('D607011', 'Microsoft Corporation', '24bbd2ee-d755-11e8-86b9-1831bf2dfe44', 'D607011', 'D14', 'D14/492', 0), ('D607012', 'Microsoft Corporation', '24bbd30e-d755-11e8-86b9-1831bf2dfe44', 'D607012', 'D14', 'D14/492', 0), ('D607013', 'Microsoft Corporation', '24bbd333-d755-11e8-86b9-1831bf2dfe44', 'D607013', 'D14', 'D14/493', 0), ('7637008', 'Intel Corporation', '2ae9197f-d755-11e8-86b9-1831bf2dfe44', '7637008', '29', '29/852', 0), ('7637008', 'Intel Corporation', '2ae91980-d755-11e8-86b9-1831bf2dfe44', '7637008', '29', '29/830', 1), ('7637008', 'Intel Corporation', '2ae91981-d755-11e8-86b9-1831bf2dfe44', '7637008', '29', '29/831', 2), ('7637008', 'Intel Corporation', '2ae91982-d755-11e8-86b9-1831bf2dfe44', '7637008', '29', '29/846', 3), ('7637008', 'Intel Corporation', '2ae91983-d755-11e8-86b9-1831bf2dfe44', '7637008', '174', '174/262', 4), ('7637751', 'Intel Corporation', '481ae36c-d755-11e8-86b9-1831bf2dfe44', '7637751', '439', '439/66', 0), ('7637751', 'Intel Corporation', '481ae36d-d755-11e8-86b9-1831bf2dfe44', '7637751', '439', '439/83', 1), ('7637751', 'Intel Corporation', '481ae36e-d755-11e8-86b9-1831bf2dfe44', '7637751', '439', '439/862', 2), ('7637751', 'Intel Corporation', '481ae36f-d755-11e8-86b9-1831bf2dfe44', '7637751', '29', '29/874', 3), ('7637751', 'Intel Corporation', '481ae370-d755-11e8-86b9-1831bf2dfe44', '7637751', '29', '29/882', 4), ('7637751', 'Intel Corporation', '481ae371-d755-11e8-86b9-1831bf2dfe44', '7637751', '29', '29/884', 5), ('7638169', 'Intel Corporation', '5d05591a-d755-11e8-86b9-1831bf2dfe44', '7638169', '427', '427/2491', 0), ('7638264', 'International Business Machines Corporation', '6078a828-d755-11e8-86b9-1831bf2dfe44', '7638264', '430', '430/313', 0), ('7638264', 'International Business Machines Corporation', '6078a829-d755-11e8-86b9-1831bf2dfe44', '7638264', '430', '430/170', 1), ('7638264', 'International Business Machines Corporation', '6078a82a-d755-11e8-86b9-1831bf2dfe44', '7638264', '430', '430/2701', 2), ('7638264', 'International Business Machines Corporation', '6078a82b-d755-11e8-86b9-1831bf2dfe44', '7638264', '430', '430/326', 3), ('7638264', 'International Business Machines Corporation', '6078a82c-d755-11e8-86b9-1831bf2dfe44', '7638264', '430', '430/905', 4), ('7638264', 'International Business Machines Corporation', '6078a82d-d755-11e8-86b9-1831bf2dfe44', '7638264', '430', '430/907', 5), ('7638264', 'International Business Machines Corporation', '6078a82e-d755-11e8-86b9-1831bf2dfe44', '7638264', '430', '430/910', 6), ('7638266', 'International Business Machines Corporation', '60eb8f33-d755-11e8-86b9-1831bf2dfe44', '7638266', '430', '430/322', 0), ('7638266', 'International Business Machines Corporation', '60eb8f34-d755-11e8-86b9-1831bf2dfe44', '7638266', '430', '430/2701', 1), ('7638266', 'International Business Machines Corporation', '60eb8f35-d755-11e8-86b9-1831bf2dfe44', '7638266', '430', '430/311', 2)]\n"
     ]
    }
   ],
   "source": [
    "query = c.execute(\"\"\"SELECT * FROM (SELECT patent_id, GROUP_CONCAT(organization)\n",
    "                                    FROM rawassignee \n",
    "                                    WHERE patent_id IN {} GROUP BY patent_id) AS sample\n",
    "                   INNER JOIN uspc\n",
    "                   ON uspc.patent_id = sample.patent_id\"\"\".format(tuple(p_id_d)))\n",
    "\n",
    "print(c.fetchmany(50))\n",
    "\n",
    "cols = [column[0] for column in query.description]\n",
    "results_d= pd.DataFrame.from_records(data = query.fetchall(), columns = cols)"
   ]
  },
  {
   "cell_type": "code",
   "execution_count": 8,
   "metadata": {
    "scrolled": true
   },
   "outputs": [
    {
     "name": "stdout",
     "output_type": "stream",
     "text": [
      "[('D674709', 'Apple Inc.', 'c93c0b53-e0a6-11e8-86b9-1831bf2dfe44', 'D674709', 'D9', 'D9/737', 0), ('D674709', 'Apple Inc.', 'c93c0b54-e0a6-11e8-86b9-1831bf2dfe44', 'D674709', 'D9', 'D9/432', 1), ('D674813', 'Microsoft Corporation', 'cb7ed6e7-e0a6-11e8-86b9-1831bf2dfe44', 'D674813', 'D14', 'D14/487', 0), ('D674814', 'Microsoft Corporation', 'cb7ed7a7-e0a6-11e8-86b9-1831bf2dfe44', 'D674814', 'D14', 'D14/487', 0), ('8357008', 'CISCO Technology, Inc.', 'e9f99891-e0a6-11e8-86b9-1831bf2dfe44', '8357008', '439', '439/535', 0), ('8357008', 'CISCO Technology, Inc.', 'e9f99892-e0a6-11e8-86b9-1831bf2dfe44', '8357008', '174', '174/480', 1), ('8357008', 'CISCO Technology, Inc.', 'e9f99893-e0a6-11e8-86b9-1831bf2dfe44', '8357008', '174', '174/491', 2), ('8357317', 'Microsoft Corporation', '024cf9a7-e0a7-11e8-86b9-1831bf2dfe44', '8357317', '264', '264/129', 0), ('8357317', 'Microsoft Corporation', '024cf9a8-e0a7-11e8-86b9-1831bf2dfe44', '8357317', '264', '264/27', 1), ('8357317', 'Microsoft Corporation', '024cf9a9-e0a7-11e8-86b9-1831bf2dfe44', '8357317', '264', '264/1771', 2), ('8357317', 'Microsoft Corporation', '024cf9aa-e0a7-11e8-86b9-1831bf2dfe44', '8357317', '264', '264/500', 3), ('8357317', 'Microsoft Corporation', '024cf9ab-e0a7-11e8-86b9-1831bf2dfe44', '8357317', '264', '264/146', 4), ('8357317', 'Microsoft Corporation', '024cf9ac-e0a7-11e8-86b9-1831bf2dfe44', '8357317', '428', '428/156', 5), ('8357317', 'Microsoft Corporation', '024cf9ad-e0a7-11e8-86b9-1831bf2dfe44', '8357317', '362', '362/623', 6), ('8357546', 'Intel Corporation', '11186428-e0a7-11e8-86b9-1831bf2dfe44', '8357546', '436', '436/526', 0), ('8357608', 'International Business Machines Corporation', '134c3f53-e0a7-11e8-86b9-1831bf2dfe44', '8357608', '438', '438/624', 0), ('8357608', 'International Business Machines Corporation', '134c3f54-e0a7-11e8-86b9-1831bf2dfe44', '8357608', '257', '257/E21576', 1), ('8357608', 'International Business Machines Corporation', '134c3f55-e0a7-11e8-86b9-1831bf2dfe44', '8357608', '257', '257/E21267', 2), ('8357608', 'International Business Machines Corporation', '134c3f56-e0a7-11e8-86b9-1831bf2dfe44', '8357608', '257', '257/E21292', 3), ('8357608', 'International Business Machines Corporation', '134c3f57-e0a7-11e8-86b9-1831bf2dfe44', '8357608', '438', '438/778', 4), ('8357608', 'International Business Machines Corporation', '134c3f58-e0a7-11e8-86b9-1831bf2dfe44', '8357608', '438', '438/775', 5), ('8357932', 'International Business Machines Corporation', '27bb201b-e0a7-11e8-86b9-1831bf2dfe44', '8357932', '257', '257/48', 0), ('8357932', 'International Business Machines Corporation', '27bb201c-e0a7-11e8-86b9-1831bf2dfe44', '8357932', '257', '257/E23179', 1), ('8357953', 'International Business Machines Corporation', '287e7766-e0a7-11e8-86b9-1831bf2dfe44', '8357953', '257', '257/198', 0), ('8357953', 'International Business Machines Corporation', '287e7767-e0a7-11e8-86b9-1831bf2dfe44', '8357953', '257', '257/297', 1), ('8357953', 'International Business Machines Corporation', '287e7768-e0a7-11e8-86b9-1831bf2dfe44', '8357953', '257', '257/565', 2), ('8358011', 'International Business Machines Corporation', '2b002895-e0a7-11e8-86b9-1831bf2dfe44', '8358011', '257', '257/774', 0), ('8358011', 'International Business Machines Corporation', '2b002896-e0a7-11e8-86b9-1831bf2dfe44', '8358011', '257', '257/211', 1), ('8358011', 'International Business Machines Corporation', '2b002897-e0a7-11e8-86b9-1831bf2dfe44', '8358011', '257', '257/701', 2), ('8358011', 'International Business Machines Corporation', '2b002898-e0a7-11e8-86b9-1831bf2dfe44', '8358011', '257', '257/758', 3), ('8358011', 'International Business Machines Corporation', '2b002899-e0a7-11e8-86b9-1831bf2dfe44', '8358011', '257', '257/760', 4), ('8358012', 'International Business Machines Corporation', '2b0028ce-e0a7-11e8-86b9-1831bf2dfe44', '8358012', '257', '257/774', 0), ('8358012', 'International Business Machines Corporation', '2b0028cf-e0a7-11e8-86b9-1831bf2dfe44', '8358012', '257', '257/382', 1), ('8358012', 'International Business Machines Corporation', '2b0028d0-e0a7-11e8-86b9-1831bf2dfe44', '8358012', '257', '257/384', 2), ('8358012', 'International Business Machines Corporation', '2b0028d1-e0a7-11e8-86b9-1831bf2dfe44', '8358012', '257', '257/623', 3), ('8358012', 'International Business Machines Corporation', '2b0028d2-e0a7-11e8-86b9-1831bf2dfe44', '8358012', '257', '257/E29116', 4), ('8358012', 'International Business Machines Corporation', '2b0028d3-e0a7-11e8-86b9-1831bf2dfe44', '8358012', '257', '257/E29119', 5), ('8358107', 'Intel Corporation', '2eed34b6-e0a7-11e8-86b9-1831bf2dfe44', '8358107', '320', '320/128', 0), ('8358107', 'Intel Corporation', '2eed34b7-e0a7-11e8-86b9-1831bf2dfe44', '8358107', '320', '320/134', 1), ('8358107', 'Intel Corporation', '2eed34b8-e0a7-11e8-86b9-1831bf2dfe44', '8358107', '320', '320/132', 2), ('8358107', 'Intel Corporation', '2eed34b9-e0a7-11e8-86b9-1831bf2dfe44', '8358107', '320', '320/140', 3), ('8358107', 'Intel Corporation', '2eed34ba-e0a7-11e8-86b9-1831bf2dfe44', '8358107', '320', '320/161', 4), ('8358112', 'Intel Corporation', '2f565063-e0a7-11e8-86b9-1831bf2dfe44', '8358112', '323', '323/272', 0), ('8358112', 'Intel Corporation', '2f565064-e0a7-11e8-86b9-1831bf2dfe44', '8358112', '323', '323/282', 1), ('8358112', 'Intel Corporation', '2f565065-e0a7-11e8-86b9-1831bf2dfe44', '8358112', '323', '323/284', 2), ('8358152', 'Apple Inc.', '326a08b7-e0a7-11e8-86b9-1831bf2dfe44', '8358152', '326', '326/93', 0), ('8358152', 'Apple Inc.', '326a08b8-e0a7-11e8-86b9-1831bf2dfe44', '8358152', '326', '326/95', 1), ('8358152', 'Apple Inc.', '326a08b9-e0a7-11e8-86b9-1831bf2dfe44', '8358152', '711', '711/207', 2), ('8358153', 'International Business Machines Corporation', '326a0910-e0a7-11e8-86b9-1831bf2dfe44', '8358153', '326', '326/104', 0), ('8358153', 'International Business Machines Corporation', '326a0911-e0a7-11e8-86b9-1831bf2dfe44', '8358153', '365', '365/158', 1)]\n"
     ]
    }
   ],
   "source": [
    "query = d.execute(\"\"\"SELECT * FROM (SELECT patent_id, GROUP_CONCAT(organization)\n",
    "                                    FROM rawassignee \n",
    "                                    WHERE patent_id IN {} GROUP BY patent_id) AS sample\n",
    "                   INNER JOIN uspc\n",
    "                   ON uspc.patent_id = sample.patent_id\"\"\".format(tuple(p_id_n)))\n",
    "\n",
    "print(d.fetchmany(50))\n",
    "\n",
    "cols = [column[0] for column in query.description]\n",
    "results_n= pd.DataFrame.from_records(data = query.fetchall(), columns = cols)"
   ]
  },
  {
   "cell_type": "code",
   "execution_count": 6,
   "metadata": {},
   "outputs": [],
   "source": [
    "results_d.columns = ['patent_id', 'organization', 'uuid', 'patent_id2',\n",
    "       'mainclass_id','subclass_id',\n",
    "       'sequence']\n",
    "\n",
    "results_d = results_d.drop(columns=[\"patent_id2\"])\n",
    "results_d.to_csv(\"done_patent_class.tsv\", sep=\"\\t\")"
   ]
  },
  {
   "cell_type": "code",
   "execution_count": 15,
   "metadata": {},
   "outputs": [],
   "source": [
    "results_n.columns = ['patent_id', 'organization', 'uuid', 'patent_id2',\n",
    "       'mainclass_id','subclass_id',\n",
    "       'sequence']\n",
    "\n",
    "results_n = results_n.drop(columns=[\"patent_id2\"])\n",
    "results_n.to_csv(\"notdone_patent_class.tsv\", sep=\"\\t\")"
   ]
  },
  {
   "cell_type": "code",
   "execution_count": 17,
   "metadata": {},
   "outputs": [],
   "source": [
    "dataframes = [results_d, results_n]\n",
    "results = pd.concat(dataframes, ignore_index=True)"
   ]
  },
  {
   "cell_type": "code",
   "execution_count": 22,
   "metadata": {},
   "outputs": [
    {
     "data": {
      "text/plain": [
       "465734"
      ]
     },
     "execution_count": 22,
     "metadata": {},
     "output_type": "execute_result"
    }
   ],
   "source": []
  },
  {
   "cell_type": "code",
   "execution_count": null,
   "metadata": {},
   "outputs": [],
   "source": []
  }
 ],
 "metadata": {
  "kernelspec": {
   "display_name": "Python 3",
   "language": "python",
   "name": "python3"
  },
  "language_info": {
   "codemirror_mode": {
    "name": "ipython",
    "version": 3
   },
   "file_extension": ".py",
   "mimetype": "text/x-python",
   "name": "python",
   "nbconvert_exporter": "python",
   "pygments_lexer": "ipython3",
   "version": "3.7.0"
  }
 },
 "nbformat": 4,
 "nbformat_minor": 2
}
